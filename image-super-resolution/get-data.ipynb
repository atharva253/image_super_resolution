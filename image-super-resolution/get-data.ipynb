{
 "cells": [
  {
   "cell_type": "code",
   "execution_count": 1,
   "metadata": {
    "execution": {
     "iopub.execute_input": "2022-02-07T05:32:18.078046Z",
     "iopub.status.busy": "2022-02-07T05:32:18.077430Z",
     "iopub.status.idle": "2022-02-07T05:32:18.484421Z",
     "shell.execute_reply": "2022-02-07T05:32:18.483604Z"
    }
   },
   "outputs": [],
   "source": [
    "from PIL import Image\n",
    "from pathlib import Path\n",
    "import shutil\n",
    "\n",
    "import numpy as np\n",
    "import orchest"
   ]
  },
  {
   "cell_type": "code",
   "execution_count": 2,
   "metadata": {},
   "outputs": [
    {
     "name": "stdout",
     "output_type": "stream",
     "text": [
      "No input images detected, using project sample image\n"
     ]
    }
   ],
   "source": [
    "input_data_dir = Path(\"/data/isr/input_images\")\n",
    "input_data_dir.mkdir(parents=True, exist_ok=True)\n",
    "img_paths = [(f.name, f.resolve()) for f in input_data_dir.iterdir() if f.is_file()]\n",
    "if not img_paths:\n",
    "    print(\"No input images detected, using project sample image\")\n",
    "    shutil.copy(\"baboon.png\", input_data_dir)\n",
    "    img_paths = [(\"baboon.png\", \"/data/isr/input_images/baboon.png\")]\n",
    "    \n",
    "imgs = [(name, np.array(Image.open(path))) for name, path in img_paths]\n",
    "imgs = sorted(imgs, key=lambda x: x[0])"
   ]
  },
  {
   "cell_type": "code",
   "execution_count": 3,
   "metadata": {},
   "outputs": [],
   "source": [
    "orchest.output(imgs, name=\"input-images\")"
   ]
  },
  {
   "cell_type": "code",
   "execution_count": null,
   "metadata": {},
   "outputs": [],
   "source": []
  },
  {
   "cell_type": "code",
   "execution_count": null,
   "metadata": {},
   "outputs": [],
   "source": []
  }
 ],
 "metadata": {
  "kernelspec": {
   "display_name": "Python3",
   "language": "python",
   "name": "orchest-kernel-25b88b34-426e-478b-953a-b47a00b2cd44"
  },
  "language_info": {
   "codemirror_mode": {
    "name": "ipython",
    "version": 3
   },
   "file_extension": ".py",
   "mimetype": "text/x-python",
   "name": "python",
   "nbconvert_exporter": "python",
   "pygments_lexer": "ipython3",
   "version": "3.7.6"
  }
 },
 "nbformat": 4,
 "nbformat_minor": 4
}
